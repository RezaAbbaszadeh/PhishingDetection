{
  "cells": [
    {
      "cell_type": "code",
      "execution_count": null,
      "metadata": {
        "colab": {
          "base_uri": "https://localhost:8080/"
        },
        "id": "PbOI7QiQgBHq",
        "outputId": "28cab418-e445-4be7-9a29-434c64ed3f7c"
      },
      "outputs": [
        {
          "name": "stdout",
          "output_type": "stream",
          "text": [
            "Drive already mounted at /content/drive; to attempt to forcibly remount, call drive.mount(\"/content/drive\", force_remount=True).\n"
          ]
        }
      ],
      "source": [
        "import pandas as pd\n",
        "import numpy as np\n",
        "import matplotlib.pyplot as plt\n",
        "from sklearn.model_selection import train_test_split\n",
        "from sklearn.tree import DecisionTreeClassifier, plot_tree\n",
        "from sklearn.metrics import accuracy_score\n",
        "from google.colab import drive\n",
        "from sklearn.preprocessing import StandardScaler\n",
        "from google.colab import drive\n",
        "from sklearn.tree import DecisionTreeClassifier\n",
        "from sklearn.neighbors import KNeighborsClassifier\n",
        "from sklearn.naive_bayes import GaussianNB\n",
        "from sklearn.linear_model import LogisticRegression\n",
        "from sklearn.neural_network import MLPClassifier\n",
        "from sklearn.ensemble import RandomForestClassifier\n",
        "from sklearn.metrics import accuracy_score\n",
        "from sklearn.model_selection import KFold\n",
        "from sklearn.cluster import KMeans\n",
        "from sklearn.metrics import roc_auc_score\n",
        "import xgboost as xgb\n",
        "from sklearn.metrics import accuracy_score, precision_score, recall_score, f1_score, confusion_matrix\n",
        "from xgboost import XGBClassifier\n",
        "from sklearn.utils import resample\n",
        "from sklearn.feature_selection import SelectKBest, mutual_info_classif\n",
        "from sklearn.impute import SimpleImputer\n",
        "from sklearn.ensemble import StackingClassifier\n",
        "from sklearn.ensemble import VotingClassifier\n",
        "drive.mount('/content/drive')\n"
      ]
    },
    {
      "cell_type": "code",
      "execution_count": null,
      "metadata": {
        "id": "mifQMSjzgMTV"
      },
      "outputs": [],
      "source": [
        "merged_df_html = pd.read_csv(\"/content/merged_df_html.csv\")\n",
        "merged_df_features = pd.read_csv(\"/content/merged_df_features.csv\")"
      ]
    },
    {
      "cell_type": "code",
      "execution_count": null,
      "metadata": {
        "id": "43akLgOKYmDt"
      },
      "outputs": [],
      "source": [
        "# Merge all dataframes into one\n",
        "merged_df_html = pd.concat([df_html_0 , df_html_10000, df_html_20000, df_html_30000], ignore_index=True)\n",
        "merged_df_features = pd.concat([df_features_0, df_features_10000, df_features_20000, df_features_30000], ignore_index=True)\n"
      ]
    },
    {
      "cell_type": "code",
      "execution_count": null,
      "metadata": {
        "id": "VMFdb1_pAcMO"
      },
      "outputs": [],
      "source": [
        "def preprocess_html(train_df):\n",
        "  columns_to_remove = [\n",
        "    'phishing', 'rec_id', 'ExtFavicon',\n",
        "    ]\n",
        "\n",
        "  # Split labels and features\n",
        "  labels = train_df['phishing']\n",
        "  features = train_df.drop(columns_to_remove, axis=1)\n",
        "\n",
        "  # Split the data into training and testing sets\n",
        "  X_train, X_test, y_train, y_test = train_test_split(features, labels, test_size=0.4, random_state=42)\n",
        "\n",
        "  columns_to_scale = [\n",
        "    'total_forms', 'total_hyperlinks'\n",
        "  ]\n",
        "\n",
        "  # Standardize the features\n",
        "  scaler = StandardScaler()\n",
        "  X_train[columns_to_scale] = scaler.fit_transform(X_train[columns_to_scale])\n",
        "  X_test[columns_to_scale] = scaler.transform(X_test[columns_to_scale])\n",
        "\n",
        "  selector = SelectKBest(mutual_info_classif, k=25)\n",
        "  X_new = selector.fit_transform(X_train, y_train)\n",
        "  selected_feature_indices = selector.get_support(indices=True)\n",
        "  selected_feature_names = X_train.columns[selected_feature_indices]\n",
        "\n",
        "  X_train = X_train[selected_feature_names]\n",
        "  X_test = X_test[selected_feature_names]\n",
        "  return X_train, y_train, X_test, y_test\n",
        "\n"
      ]
    },
    {
      "cell_type": "code",
      "execution_count": null,
      "metadata": {
        "id": "KEiXRSMdAJzL"
      },
      "outputs": [],
      "source": [
        "html_train_X, html_train_y, html_test_X, html_test_y = preprocess_html(merged_df_html)\n"
      ]
    },
    {
      "cell_type": "code",
      "execution_count": null,
      "metadata": {
        "id": "z1v5d9YIdHY9"
      },
      "outputs": [],
      "source": [
        "models = {\n",
        "    \"Decision Tree\": DecisionTreeClassifier(random_state=42),\n",
        "    \"k-NN (k=1)\": KNeighborsClassifier(n_neighbors=1),\n",
        "    \"k-NN (k=3)\": KNeighborsClassifier(n_neighbors=3),\n",
        "    \"Gaussian Naive Bayes\": GaussianNB(),\n",
        "    \"Logistic Regression\": LogisticRegression(max_iter=1000, random_state=42),\n",
        "    \"MLP Neural Network\": MLPClassifier(hidden_layer_sizes=(100, 50), max_iter=1000, random_state=42),\n",
        "    \"Random Forest\": RandomForestClassifier(n_estimators=100, random_state=42),\n",
        "    \"XGBoost\": xgb.XGBClassifier(random_state=42)\n",
        "}"
      ]
    },
    {
      "cell_type": "code",
      "execution_count": null,
      "metadata": {
        "id": "g2_sAjAmdZkF"
      },
      "outputs": [],
      "source": [
        "def evaluate_models(models, X_train, y_train, X_test, y_test):\n",
        "  for model_name, model in models.items():\n",
        "      # Train the model\n",
        "      model.fit(X_train, y_train)\n",
        "\n",
        "      # Predict on the training set\n",
        "      y_train_pred = model.predict(X_train)\n",
        "      # Calculate training accuracy\n",
        "      train_accuracy = accuracy_score(y_train, y_train_pred)\n",
        "\n",
        "      # Predict on the test set\n",
        "      y_test_pred = model.predict(X_test)\n",
        "      # Calculate testing accuracy\n",
        "      test_accuracy = accuracy_score(y_test, y_test_pred)\n",
        "      print(f\"ID of {model_name}: {id(model)}\")  # Print the ID\n",
        "\n",
        "      # Print the accuracies for each model\n",
        "      print(f\"{model_name} - Train Accuracy: {train_accuracy:.4f}, Test Accuracy: {test_accuracy:.4f}\")"
      ]
    },
    {
      "cell_type": "code",
      "execution_count": null,
      "metadata": {
        "id": "9gL-lrhZb51J"
      },
      "outputs": [],
      "source": [
        "def evaluate_models_2(models, X_train, y_train, X_test, y_test):\n",
        "    print(f\"{'Model':<20} {'Set':<10} {'Pre (%)':<10} {'Recall (%)':<10} {'F1-Score (%)':<15} {'AUC (%)':<10} {'ACC (%)':<10}\")\n",
        "    print(\"-\" * 80)\n",
        "\n",
        "    for model_name, model in models.items():\n",
        "\n",
        "        # Evaluate on test set\n",
        "        y_test_pred = model.predict(X_test)\n",
        "        y_test_prob = model.predict_proba(X_test)[:, 1] if hasattr(model, \"predict_proba\") else None\n",
        "        test_precision = precision_score(y_test, y_test_pred) * 100\n",
        "        test_recall = recall_score(y_test, y_test_pred) * 100\n",
        "        test_f1 = f1_score(y_test, y_test_pred) * 100\n",
        "        test_auc = roc_auc_score(y_test, y_test_prob) * 100 if y_test_prob is not None else \"-\"\n",
        "        test_accuracy = accuracy_score(y_test, y_test_pred) * 100\n",
        "\n",
        "        # Print test set metrics\n",
        "        print(f\"{model_name:<20} {'Test':<10} {test_precision:<10.2f} {test_recall:<10.2f} {test_f1:<15.2f} {test_auc:<10} {test_accuracy:<10.2f}\")"
      ]
    },
    {
      "cell_type": "code",
      "execution_count": null,
      "metadata": {
        "colab": {
          "base_uri": "https://localhost:8080/"
        },
        "id": "2dMyDNxnieLu",
        "outputId": "409e33ed-701b-470b-f2d4-1be4396d93fe"
      },
      "outputs": [
        {
          "name": "stdout",
          "output_type": "stream",
          "text": [
            "ID of Decision Tree: 138002685832512\n",
            "Decision Tree - Train Accuracy: 0.9829, Test Accuracy: 0.9363\n",
            "ID of k-NN (k=1): 138002685828528\n",
            "k-NN (k=1) - Train Accuracy: 0.9641, Test Accuracy: 0.9230\n",
            "ID of k-NN (k=3): 138002685828960\n",
            "k-NN (k=3) - Train Accuracy: 0.9395, Test Accuracy: 0.9097\n",
            "ID of Gaussian Naive Bayes: 138002685833808\n",
            "Gaussian Naive Bayes - Train Accuracy: 0.8167, Test Accuracy: 0.8150\n",
            "ID of Logistic Regression: 138002685831504\n",
            "Logistic Regression - Train Accuracy: 0.8686, Test Accuracy: 0.8646\n",
            "ID of MLP Neural Network: 138002685834768\n",
            "MLP Neural Network - Train Accuracy: 0.9616, Test Accuracy: 0.9361\n",
            "ID of Random Forest: 138002685835008\n",
            "Random Forest - Train Accuracy: 0.9829, Test Accuracy: 0.9533\n"
          ]
        },
        {
          "name": "stderr",
          "output_type": "stream",
          "text": [
            "/usr/local/lib/python3.10/dist-packages/cudf/utils/_ptxcompiler.py:64: UserWarning: Error getting driver and runtime versions:\n",
            "\n",
            "stdout:\n",
            "\n",
            "\n",
            "\n",
            "stderr:\n",
            "\n",
            "Traceback (most recent call last):\n",
            "  File \"<string>\", line 4, in <module>\n",
            "  File \"/usr/local/lib/python3.10/dist-packages/numba/cuda/cudadrv/driver.py\", line 295, in __getattr__\n",
            "    raise CudaSupportError(\"Error at driver init: \\n%s:\" %\n",
            "numba.cuda.cudadrv.error.CudaSupportError: Error at driver init: \n",
            "\n",
            "CUDA driver library cannot be found.\n",
            "If you are sure that a CUDA driver is installed,\n",
            "try setting environment variable NUMBA_CUDA_DRIVER\n",
            "with the file path of the CUDA driver shared library.\n",
            ":\n",
            "\n",
            "\n",
            "Not patching Numba\n",
            "  warnings.warn(msg, UserWarning)\n",
            "/usr/local/lib/python3.10/dist-packages/cudf/utils/gpu_utils.py:62: UserWarning: Failed to dlopen libcuda.so.1\n",
            "  warnings.warn(str(e))\n",
            "/usr/local/lib/python3.10/dist-packages/cudf/utils/gpu_utils.py:62: UserWarning: Function \"cuInit\" not found\n",
            "  warnings.warn(str(e))\n"
          ]
        },
        {
          "name": "stdout",
          "output_type": "stream",
          "text": [
            "ID of XGBoost: 138002685828000\n",
            "XGBoost - Train Accuracy: 0.9760, Test Accuracy: 0.9469\n"
          ]
        }
      ],
      "source": [
        "# evaluate_models(models, features_train_X, features_train_y, features_test_X, features_test_y)\n",
        "evaluate_models(models, html_train_X, html_train_y, html_test_X, html_test_y)"
      ]
    },
    {
      "cell_type": "code",
      "execution_count": null,
      "metadata": {
        "colab": {
          "base_uri": "https://localhost:8080/"
        },
        "id": "4aTLP6HscUd0",
        "outputId": "4e6a08c4-5620-43d7-dbd8-43bced98e2db"
      },
      "outputs": [
        {
          "name": "stdout",
          "output_type": "stream",
          "text": [
            "Model                Set        Pre (%)    Recall (%) F1-Score (%)    AUC (%)    ACC (%)   \n",
            "--------------------------------------------------------------------------------\n",
            "Decision Tree        Test       91.47      91.51      91.49           94.56351813132432 93.63     \n",
            "k-NN (k=1)           Test       91.76      87.25      89.45           91.28424322580457 92.30     \n",
            "k-NN (k=3)           Test       85.98      90.66      88.26           95.76871534803058 90.97     \n",
            "Gaussian Naive Bayes Test       69.55      89.89      78.43           88.68231487355432 81.50     \n",
            "Logistic Regression  Test       82.22      81.42      81.82           92.20628789480774 86.46     \n",
            "MLP Neural Network   Test       93.27      89.37      91.28           97.78979567407453 93.61     \n",
            "Random Forest        Test       94.56      92.87      93.70           98.8290029450394 95.33     \n",
            "XGBoost              Test       93.51      92.20      92.85           98.44060475702486 94.69     \n"
          ]
        }
      ],
      "source": [
        "evaluate_models_2(models, html_train_X, html_train_y, html_test_X, html_test_y)"
      ]
    },
    {
      "cell_type": "code",
      "execution_count": null,
      "metadata": {
        "colab": {
          "base_uri": "https://localhost:8080/"
        },
        "id": "D1_3sA5sdriT",
        "outputId": "a437173f-49d4-43b0-ee2f-587533b3bb42"
      },
      "outputs": [
        {
          "name": "stderr",
          "output_type": "stream",
          "text": [
            "/usr/local/lib/python3.10/dist-packages/cudf/utils/_ptxcompiler.py:64: UserWarning: Error getting driver and runtime versions:\n",
            "\n",
            "stdout:\n",
            "\n",
            "\n",
            "\n",
            "stderr:\n",
            "\n",
            "Traceback (most recent call last):\n",
            "  File \"<string>\", line 4, in <module>\n",
            "  File \"/usr/local/lib/python3.10/dist-packages/numba/cuda/cudadrv/driver.py\", line 295, in __getattr__\n",
            "    raise CudaSupportError(\"Error at driver init: \\n%s:\" %\n",
            "numba.cuda.cudadrv.error.CudaSupportError: Error at driver init: \n",
            "\n",
            "CUDA driver library cannot be found.\n",
            "If you are sure that a CUDA driver is installed,\n",
            "try setting environment variable NUMBA_CUDA_DRIVER\n",
            "with the file path of the CUDA driver shared library.\n",
            ":\n",
            "\n",
            "\n",
            "Not patching Numba\n",
            "  warnings.warn(msg, UserWarning)\n",
            "/usr/local/lib/python3.10/dist-packages/cudf/utils/gpu_utils.py:62: UserWarning: Function \"cuInit\" not found\n",
            "  warnings.warn(str(e))\n"
          ]
        },
        {
          "name": "stdout",
          "output_type": "stream",
          "text": [
            "Accuracy: 0.946875\n",
            "Precision: 0.9350957464836468\n",
            "Recall: 0.9219715956558062\n",
            "F1 Score: 0.928487295978462\n",
            "Confusion Matrix:\n",
            "[[9632  383]\n",
            " [ 467 5518]]\n"
          ]
        }
      ],
      "source": [
        "model_1 =  XGBClassifier(use_label_encoder=False, eval_metric='logloss')\n",
        "model_1.fit(html_train_X, html_train_y)\n",
        "\n",
        "# Predictions\n",
        "y_pred = model_1.predict(html_test_X)\n",
        "\n",
        "# Evaluation\n",
        "accuracy = accuracy_score(html_test_y, y_pred)\n",
        "precision = precision_score(html_test_y, y_pred)\n",
        "recall = recall_score(html_test_y, y_pred)\n",
        "f1 = f1_score(html_test_y, y_pred)\n",
        "conf_matrix = confusion_matrix(html_test_y, y_pred)\n",
        "\n",
        "print(f\"Accuracy: {accuracy}\")\n",
        "print(f\"Precision: {precision}\")\n",
        "print(f\"Recall: {recall}\")\n",
        "print(f\"F1 Score: {f1}\")\n",
        "print(\"Confusion Matrix:\")\n",
        "print(conf_matrix)\n"
      ]
    },
    {
      "cell_type": "code",
      "execution_count": null,
      "metadata": {
        "id": "glMkC1xG92o6"
      },
      "outputs": [],
      "source": [
        "def preprocess_features(train_df):\n",
        "  columns_to_remove = [\n",
        "      'phishing', 'rec_id',\n",
        "    'qty_/_domain', 'qty_?_domain', 'qty_=_domain', 'qty_@_domain',\n",
        "    'qty_&_domain', 'qty_!_domain', 'qty_ _domain', 'qty_~_domain',\n",
        "    'qty_,_domain', 'qty_+_domain', 'qty_*_domain', 'qty_#_domain',\n",
        "    'qty_$_domain', 'qty_%_domain',\n",
        "      'time_response'\t,'domain_spf'\t,'asn_ip'\t,'time_domain_activation'\t,\n",
        "      'time_domain_expiration'\t,'qty_ip_resolved'\t,'qty_nameservers',\n",
        "      'qty_mx_servers',\t'ttl_hostname'\t,'tls_ssl_certificate',\n",
        "      'qty_redirects',\t'url_google_index',\t'domain_google_index',\t'url_shortened'\n",
        "]\n",
        "\n",
        "   # Split labels and features\n",
        "  labels = train_df['phishing']\n",
        "  features = train_df.drop(columns_to_remove, axis=1)\n",
        "\n",
        "  # Split the data into training and testing sets\n",
        "  X_train, X_test, y_train, y_test = train_test_split(features, labels, test_size=0.4, random_state=42)\n",
        "\n",
        "  scaler = StandardScaler()\n",
        "  X_train  = scaler.fit_transform(X_train)\n",
        "  X_test = scaler.transform(X_test)\n",
        "\n",
        "  return X_train, y_train, X_test, y_test\n",
        "\n"
      ]
    },
    {
      "cell_type": "code",
      "execution_count": null,
      "metadata": {
        "id": "jeWPP-13f1KV"
      },
      "outputs": [],
      "source": [
        "features_train_X, features_train_y, features_test_X, features_test_y = preprocess_features(merged_df_features)\n"
      ]
    },
    {
      "cell_type": "code",
      "execution_count": null,
      "metadata": {
        "id": "BAQW56oc5B4c"
      },
      "outputs": [],
      "source": [
        "models2 = {\n",
        "    \"Decision Tree\": DecisionTreeClassifier(random_state=42),\n",
        "    \"k-NN (k=1)\": KNeighborsClassifier(n_neighbors=1),\n",
        "    \"k-NN (k=3)\": KNeighborsClassifier(n_neighbors=3),\n",
        "    \"Gaussian Naive Bayes\": GaussianNB(),\n",
        "    \"Logistic Regression\": LogisticRegression(max_iter=1000, random_state=42),\n",
        "    \"MLP Neural Network\": MLPClassifier(hidden_layer_sizes=(100, 50), max_iter=1000, random_state=42),\n",
        "    \"Random Forest\": RandomForestClassifier(n_estimators=100, random_state=42),\n",
        "    \"XGBoost\": xgb.XGBClassifier(random_state=42)\n",
        "}"
      ]
    },
    {
      "cell_type": "code",
      "execution_count": null,
      "metadata": {
        "colab": {
          "base_uri": "https://localhost:8080/"
        },
        "id": "RRcyFtz7AKdV",
        "outputId": "0b48a215-ab44-4ef3-c436-84abc503cdcc"
      },
      "outputs": [
        {
          "name": "stdout",
          "output_type": "stream",
          "text": [
            "ID of Decision Tree: 138002673878352\n",
            "Decision Tree - Train Accuracy: 0.9836, Test Accuracy: 0.8818\n",
            "ID of k-NN (k=1): 138002673886752\n",
            "k-NN (k=1) - Train Accuracy: 0.9781, Test Accuracy: 0.8902\n",
            "ID of k-NN (k=3): 138002673883728\n",
            "k-NN (k=3) - Train Accuracy: 0.9365, Test Accuracy: 0.8947\n",
            "ID of Gaussian Naive Bayes: 138002673884976\n",
            "Gaussian Naive Bayes - Train Accuracy: 0.7076, Test Accuracy: 0.7078\n",
            "ID of Logistic Regression: 138002673889200\n",
            "Logistic Regression - Train Accuracy: 0.8456, Test Accuracy: 0.8465\n",
            "ID of MLP Neural Network: 138002673886704\n",
            "MLP Neural Network - Train Accuracy: 0.9474, Test Accuracy: 0.9098\n",
            "ID of Random Forest: 138002673885024\n",
            "Random Forest - Train Accuracy: 0.9836, Test Accuracy: 0.9145\n"
          ]
        },
        {
          "name": "stderr",
          "output_type": "stream",
          "text": [
            "/usr/local/lib/python3.10/dist-packages/cudf/utils/_ptxcompiler.py:64: UserWarning: Error getting driver and runtime versions:\n",
            "\n",
            "stdout:\n",
            "\n",
            "\n",
            "\n",
            "stderr:\n",
            "\n",
            "Traceback (most recent call last):\n",
            "  File \"<string>\", line 4, in <module>\n",
            "  File \"/usr/local/lib/python3.10/dist-packages/numba/cuda/cudadrv/driver.py\", line 295, in __getattr__\n",
            "    raise CudaSupportError(\"Error at driver init: \\n%s:\" %\n",
            "numba.cuda.cudadrv.error.CudaSupportError: Error at driver init: \n",
            "\n",
            "CUDA driver library cannot be found.\n",
            "If you are sure that a CUDA driver is installed,\n",
            "try setting environment variable NUMBA_CUDA_DRIVER\n",
            "with the file path of the CUDA driver shared library.\n",
            ":\n",
            "\n",
            "\n",
            "Not patching Numba\n",
            "  warnings.warn(msg, UserWarning)\n",
            "/usr/local/lib/python3.10/dist-packages/cudf/utils/gpu_utils.py:62: UserWarning: Function \"cuInit\" not found\n",
            "  warnings.warn(str(e))\n"
          ]
        },
        {
          "name": "stdout",
          "output_type": "stream",
          "text": [
            "ID of XGBoost: 138002673885120\n",
            "XGBoost - Train Accuracy: 0.9335, Test Accuracy: 0.9158\n"
          ]
        }
      ],
      "source": [
        "evaluate_models(models2, features_train_X, features_train_y, features_test_X, features_test_y)"
      ]
    },
    {
      "cell_type": "code",
      "execution_count": null,
      "metadata": {
        "id": "yiNre8_f25R8"
      },
      "outputs": [],
      "source": [
        "# html_train_df = pd.DataFrame(html_train_X, columns=html_train_X.columns, index=html_train_y.index)\n",
        "# html_train_df['phishing'] = html_train_y  # Add back the target variable\n",
        "# html_test_df = pd.DataFrame(html_test_X, columns=html_test_X.columns, index=html_test_y.index)\n",
        "# html_test_df['phishing'] = html_test_y  # Add back the target variable\n"
      ]
    },
    {
      "cell_type": "code",
      "execution_count": null,
      "metadata": {
        "colab": {
          "base_uri": "https://localhost:8080/"
        },
        "id": "d0B2EKeXczTx",
        "outputId": "f3d21816-123d-4050-8f00-f159f39f535f"
      },
      "outputs": [
        {
          "name": "stdout",
          "output_type": "stream",
          "text": [
            "Model                Set        Pre (%)    Recall (%) F1-Score (%)    AUC (%)    ACC (%)   \n",
            "--------------------------------------------------------------------------------\n",
            "Decision Tree        Test       84.73      83.33      84.02           88.36984966835186 88.18     \n",
            "k-NN (k=1)           Test       85.30      85.24      85.27           88.25303388525944 89.02     \n",
            "k-NN (k=3)           Test       86.37      85.20      85.78           93.33439662505845 89.47     \n",
            "Gaussian Naive Bayes Test       83.41      27.01      40.81           87.75447984896942 70.78     \n",
            "Logistic Regression  Test       82.88      74.15      78.27           91.95791361833727 84.65     \n",
            "MLP Neural Network   Test       87.57      88.34      87.96           96.4696590425941 90.98     \n",
            "Random Forest        Test       89.11      87.80      88.45           96.74086044926298 91.45     \n",
            "XGBoost              Test       89.34      87.91      88.62           97.26090924614273 91.58     \n"
          ]
        }
      ],
      "source": [
        "evaluate_models_2(models2, features_train_X, features_train_y, features_test_X, features_test_y)"
      ]
    },
    {
      "cell_type": "code",
      "execution_count": null,
      "metadata": {
        "colab": {
          "base_uri": "https://localhost:8080/"
        },
        "id": "-Pi6mKeRTbr4",
        "outputId": "9a97528f-cbe9-409f-f5f9-cffed063ef60"
      },
      "outputs": [
        {
          "name": "stderr",
          "output_type": "stream",
          "text": [
            "/usr/local/lib/python3.10/dist-packages/cudf/utils/_ptxcompiler.py:64: UserWarning: Error getting driver and runtime versions:\n",
            "\n",
            "stdout:\n",
            "\n",
            "\n",
            "\n",
            "stderr:\n",
            "\n",
            "Traceback (most recent call last):\n",
            "  File \"<string>\", line 4, in <module>\n",
            "  File \"/usr/local/lib/python3.10/dist-packages/numba/cuda/cudadrv/driver.py\", line 295, in __getattr__\n",
            "    raise CudaSupportError(\"Error at driver init: \\n%s:\" %\n",
            "numba.cuda.cudadrv.error.CudaSupportError: Error at driver init: \n",
            "\n",
            "CUDA driver library cannot be found.\n",
            "If you are sure that a CUDA driver is installed,\n",
            "try setting environment variable NUMBA_CUDA_DRIVER\n",
            "with the file path of the CUDA driver shared library.\n",
            ":\n",
            "\n",
            "\n",
            "Not patching Numba\n",
            "  warnings.warn(msg, UserWarning)\n",
            "/usr/local/lib/python3.10/dist-packages/cudf/utils/gpu_utils.py:62: UserWarning: Function \"cuInit\" not found\n",
            "  warnings.warn(str(e))\n"
          ]
        },
        {
          "name": "stdout",
          "output_type": "stream",
          "text": [
            "Accuracy: 0.9158125\n",
            "Precision: 0.8933742122296031\n",
            "Recall: 0.8791485082132082\n",
            "F1 Score: 0.8862042747317732\n",
            "Confusion Matrix:\n",
            "[[18816  1252]\n",
            " [ 1442 10490]]\n"
          ]
        }
      ],
      "source": [
        "model_2 =  XGBClassifier(use_label_encoder=False, eval_metric='logloss')\n",
        "model_2.fit(features_train_X, features_train_y)\n",
        "\n",
        "# Predictions\n",
        "y_pred = model_2.predict(features_test_X)\n",
        "\n",
        "# Evaluation\n",
        "accuracy = accuracy_score(features_test_y, y_pred)\n",
        "precision = precision_score(features_test_y, y_pred)\n",
        "recall = recall_score(features_test_y, y_pred)\n",
        "f1 = f1_score(features_test_y, y_pred)\n",
        "conf_matrix = confusion_matrix(features_test_y, y_pred)\n",
        "\n",
        "print(f\"Accuracy: {accuracy}\")\n",
        "print(f\"Precision: {precision}\")\n",
        "print(f\"Recall: {recall}\")\n",
        "print(f\"F1 Score: {f1}\")\n",
        "print(\"Confusion Matrix:\")\n",
        "print(conf_matrix)"
      ]
    },
    {
      "cell_type": "code",
      "execution_count": null,
      "metadata": {
        "colab": {
          "base_uri": "https://localhost:8080/"
        },
        "id": "walvCJJe4CGJ",
        "outputId": "26d70627-57e6-478d-d460-c10f2a8bcd07"
      },
      "outputs": [
        {
          "name": "stdout",
          "output_type": "stream",
          "text": [
            "       rec_id  script_files_ratio  css_files_ratio  image_files_ratio  \\\n",
            "0           1            0.000000         0.000000           0.571429   \n",
            "1           1            0.000000         0.000000           0.571429   \n",
            "2           2            0.142857         0.071429           0.142857   \n",
            "3           2            0.142857         0.071429           0.142857   \n",
            "4           3            0.031250         0.010417           0.052083   \n",
            "...       ...                 ...              ...                ...   \n",
            "89995   79996                 NaN              NaN                NaN   \n",
            "89996   79997                 NaN              NaN                NaN   \n",
            "89997   79998                 NaN              NaN                NaN   \n",
            "89998   79999                 NaN              NaN                NaN   \n",
            "89999   80000                 NaN              NaN                NaN   \n",
            "\n",
            "       anchor_files_ratio  empty_anchor_ratio  null_hyperlink_ratio  \\\n",
            "0                0.142857                 0.0              0.285714   \n",
            "1                0.142857                 0.0              0.285714   \n",
            "2                0.500000                 0.0              0.142857   \n",
            "3                0.500000                 0.0              0.142857   \n",
            "4                0.802083                 0.0              0.062500   \n",
            "...                   ...                 ...                   ...   \n",
            "89995                 NaN                 NaN                   NaN   \n",
            "89996                 NaN                 NaN                   NaN   \n",
            "89997                 NaN                 NaN                   NaN   \n",
            "89998                 NaN                 NaN                   NaN   \n",
            "89999                 NaN                 NaN                   NaN   \n",
            "\n",
            "       total_hyperlinks  internal_hyperlink_ratio  external_hyperlink_ratio  \\\n",
            "0                   7.0                  0.875000                  0.000000   \n",
            "1                   7.0                  0.875000                  0.000000   \n",
            "2                  14.0                  0.812500                  0.062500   \n",
            "3                  14.0                  0.812500                  0.062500   \n",
            "4                  96.0                  0.887755                  0.061224   \n",
            "...                 ...                       ...                       ...   \n",
            "89995               NaN                       NaN                       NaN   \n",
            "89996               NaN                       NaN                       NaN   \n",
            "89997               NaN                       NaN                       NaN   \n",
            "89998               NaN                       NaN                       NaN   \n",
            "89999               NaN                       NaN                       NaN   \n",
            "\n",
            "       ...  path_length  query_length  double_slash_in_path  \\\n",
            "0      ...           15             0                     0   \n",
            "1      ...           15             0                     0   \n",
            "2      ...           13             0                     0   \n",
            "3      ...           13             0                     0   \n",
            "4      ...           20             0                     0   \n",
            "...    ...          ...           ...                   ...   \n",
            "89995  ...           23             0                     0   \n",
            "89996  ...           58           157                     0   \n",
            "89997  ...           27             0                     0   \n",
            "89998  ...           13             0                     0   \n",
            "89999  ...            1             0                     0   \n",
            "\n",
            "       num_sensitive_words  ip_address_in_url  long_url  at_symbol_in_url  \\\n",
            "0                        0                  0         0                 0   \n",
            "1                        0                  0         0                 0   \n",
            "2                        0                  0         0                 0   \n",
            "3                        0                  0         0                 0   \n",
            "4                        0                  0         0                 0   \n",
            "...                    ...                ...       ...               ...   \n",
            "89995                    0                  0         0                 0   \n",
            "89996                    1                  0         1                 0   \n",
            "89997                    0                  0         0                 0   \n",
            "89998                    0                  0         0                 0   \n",
            "89999                    0                  0         0                 0   \n",
            "\n",
            "       prefix_suffix_in_domain  subdomain_count  phishing  \n",
            "0                            0                1       1.0  \n",
            "1                            0                1       1.0  \n",
            "2                            0                2       0.0  \n",
            "3                            0                2       0.0  \n",
            "4                            0                2       0.0  \n",
            "...                        ...              ...       ...  \n",
            "89995                        0                1       1.0  \n",
            "89996                        0                1       1.0  \n",
            "89997                        0                2       0.0  \n",
            "89998                        1                2       0.0  \n",
            "89999                        0                2       1.0  \n",
            "\n",
            "[90000 rows x 172 columns]\n"
          ]
        }
      ],
      "source": [
        "merged_df = pd.merge(merged_df_html, merged_df_features, on='rec_id', how='outer')\n",
        "\n",
        "# Handle phishing label (assuming both phishing labels should match)\n",
        "# If they don't match, prioritize one, or handle conflicts as needed\n",
        "merged_df['phishing'] = merged_df['phishing_x'].combine_first(merged_df['phishing_y'])\n",
        "\n",
        "# Drop duplicate phishing columns\n",
        "merged_df.drop(columns=['phishing_x', 'phishing_y'], inplace=True)\n",
        "\n",
        "# Output the final DataFrame\n",
        "print(merged_df)"
      ]
    },
    {
      "cell_type": "code",
      "execution_count": null,
      "metadata": {
        "id": "Pb_lTf_m4OsV"
      },
      "outputs": [],
      "source": [
        "def preprocess_merged_df(train_df):\n",
        "  columns_to_remove = [\n",
        "      'phishing', 'rec_id',\n",
        "    'qty_/_domain', 'qty_?_domain', 'qty_=_domain', 'qty_@_domain',\n",
        "    'qty_&_domain', 'qty_!_domain', 'qty_ _domain', 'qty_~_domain',\n",
        "    'qty_,_domain', 'qty_+_domain', 'qty_*_domain', 'qty_#_domain',\n",
        "    'qty_$_domain', 'qty_%_domain',\n",
        "      'time_response'\t,'domain_spf'\t,'asn_ip'\t,'time_domain_activation'\t,\n",
        "      'time_domain_expiration'\t,'qty_ip_resolved'\t,'qty_nameservers',\n",
        "      'qty_mx_servers',\t'ttl_hostname'\t,'tls_ssl_certificate',\n",
        "      'qty_redirects',\t'url_google_index',\t'domain_google_index',\t'url_shortened', 'ExtFavicon'\n",
        "]\n",
        "\n",
        "   # Split labels and features\n",
        "  labels = train_df['phishing']\n",
        "  features = train_df.drop(columns_to_remove, axis=1)\n",
        "\n",
        "  # Split the data into training and testing sets\n",
        "  X_train, X_test, y_train, y_test = train_test_split(features, labels, test_size=0.4, random_state=42)\n",
        "  feature_names = X_train.columns\n",
        "\n",
        "  feature_columns_to_scale = merged_df_features.columns.difference(columns_to_remove)\n",
        "  html_columns_to_scale = [\n",
        "    'total_forms', 'total_hyperlinks'\n",
        "  ]\n",
        "  columns_to_scale = feature_columns_to_scale.tolist() + html_columns_to_scale\n",
        "\n",
        "  # Standardize the features\n",
        "  scaler = StandardScaler()\n",
        "  X_train[columns_to_scale] = scaler.fit_transform(X_train[columns_to_scale])\n",
        "  X_test[columns_to_scale] = scaler.transform(X_test[columns_to_scale])\n",
        "\n",
        "  imputer = SimpleImputer(strategy='most_frequent')\n",
        "  X_train = imputer.fit_transform(X_train)\n",
        "  X_test = imputer.transform(X_test)\n",
        "\n",
        "  # Convert back to DataFrame with original column names\n",
        "  X_train = pd.DataFrame(X_train, columns=feature_names)\n",
        "  X_test = pd.DataFrame(X_test, columns=feature_names)\n",
        "\n",
        "  selector = SelectKBest(mutual_info_classif, k=40)\n",
        "  X_new = selector.fit_transform(X_train, y_train)\n",
        "  selected_feature_indices = selector.get_support(indices=True)\n",
        "  selected_feature_names = X_train.columns[selected_feature_indices]\n",
        "\n",
        "  X_train = X_train[selected_feature_names]\n",
        "  X_test = X_test[selected_feature_names]\n",
        "\n",
        "\n",
        "  return X_train, y_train, X_test, y_test"
      ]
    },
    {
      "cell_type": "code",
      "execution_count": null,
      "metadata": {
        "id": "R8LZfBRhpKgy"
      },
      "outputs": [],
      "source": [
        "merged_train_X, merged_train_y, merged_test_X, merged_test_y = preprocess_merged_df(merged_df)"
      ]
    },
    {
      "cell_type": "code",
      "execution_count": null,
      "metadata": {
        "colab": {
          "base_uri": "https://localhost:8080/"
        },
        "id": "7KnkLUtopOfb",
        "outputId": "bb66b53d-6d25-4690-c43b-4844e1617b9a"
      },
      "outputs": [
        {
          "name": "stderr",
          "output_type": "stream",
          "text": [
            "/usr/local/lib/python3.10/dist-packages/cudf/utils/_ptxcompiler.py:64: UserWarning: Error getting driver and runtime versions:\n",
            "\n",
            "stdout:\n",
            "\n",
            "\n",
            "\n",
            "stderr:\n",
            "\n",
            "Traceback (most recent call last):\n",
            "  File \"<string>\", line 4, in <module>\n",
            "  File \"/usr/local/lib/python3.10/dist-packages/numba/cuda/cudadrv/driver.py\", line 295, in __getattr__\n",
            "    raise CudaSupportError(\"Error at driver init: \\n%s:\" %\n",
            "numba.cuda.cudadrv.error.CudaSupportError: Error at driver init: \n",
            "\n",
            "CUDA driver library cannot be found.\n",
            "If you are sure that a CUDA driver is installed,\n",
            "try setting environment variable NUMBA_CUDA_DRIVER\n",
            "with the file path of the CUDA driver shared library.\n",
            ":\n",
            "\n",
            "\n",
            "Not patching Numba\n",
            "  warnings.warn(msg, UserWarning)\n",
            "/usr/local/lib/python3.10/dist-packages/cudf/utils/gpu_utils.py:62: UserWarning: Function \"cuInit\" not found\n",
            "  warnings.warn(str(e))\n"
          ]
        },
        {
          "name": "stdout",
          "output_type": "stream",
          "text": [
            "Accuracy: 0.9265833333333333\n",
            "Precision: 0.9139628979311398\n",
            "Recall: 0.8876037959667853\n",
            "F1 Score: 0.9005905141610562\n",
            "Confusion Matrix:\n",
            "[[21385  1127]\n",
            " [ 1516 11972]]\n"
          ]
        }
      ],
      "source": [
        "xgb_model = XGBClassifier(use_label_encoder=False, eval_metric='logloss')\n",
        "xgb_model.fit(merged_train_X, merged_train_y)\n",
        "\n",
        "predictions = xgb_model.predict(merged_test_X)\n",
        "\n",
        "accuracy = accuracy_score(merged_test_y, predictions)\n",
        "precision = precision_score(merged_test_y, predictions)\n",
        "recall = recall_score(merged_test_y, predictions)\n",
        "f1 = f1_score(merged_test_y, predictions)\n",
        "conf_matrix = confusion_matrix(merged_test_y, predictions)\n",
        "\n",
        "print(f\"Accuracy: {accuracy}\")\n",
        "print(f\"Precision: {precision}\")\n",
        "print(f\"Recall: {recall}\")\n",
        "print(f\"F1 Score: {f1}\")\n",
        "print(\"Confusion Matrix:\")\n",
        "print(conf_matrix)"
      ]
    },
    {
      "cell_type": "code",
      "execution_count": null,
      "metadata": {
        "colab": {
          "base_uri": "https://localhost:8080/"
        },
        "id": "mxes76XCuAE3",
        "outputId": "acf7e591-415a-4ac1-a589-b0e0a690261d"
      },
      "outputs": [
        {
          "name": "stderr",
          "output_type": "stream",
          "text": [
            "/usr/local/lib/python3.10/dist-packages/cudf/utils/_ptxcompiler.py:64: UserWarning: Error getting driver and runtime versions:\n",
            "\n",
            "stdout:\n",
            "\n",
            "\n",
            "\n",
            "stderr:\n",
            "\n",
            "Traceback (most recent call last):\n",
            "  File \"<string>\", line 4, in <module>\n",
            "  File \"/usr/local/lib/python3.10/dist-packages/numba/cuda/cudadrv/driver.py\", line 295, in __getattr__\n",
            "    raise CudaSupportError(\"Error at driver init: \\n%s:\" %\n",
            "numba.cuda.cudadrv.error.CudaSupportError: Error at driver init: \n",
            "\n",
            "CUDA driver library cannot be found.\n",
            "If you are sure that a CUDA driver is installed,\n",
            "try setting environment variable NUMBA_CUDA_DRIVER\n",
            "with the file path of the CUDA driver shared library.\n",
            ":\n",
            "\n",
            "\n",
            "Not patching Numba\n",
            "  warnings.warn(msg, UserWarning)\n",
            "/usr/local/lib/python3.10/dist-packages/cudf/utils/gpu_utils.py:62: UserWarning: Function \"cuInit\" not found\n",
            "  warnings.warn(str(e))\n",
            "/usr/local/lib/python3.10/dist-packages/cudf/utils/_ptxcompiler.py:64: UserWarning: Error getting driver and runtime versions:\n",
            "\n",
            "stdout:\n",
            "\n",
            "\n",
            "\n",
            "stderr:\n",
            "\n",
            "Traceback (most recent call last):\n",
            "  File \"<string>\", line 4, in <module>\n",
            "  File \"/usr/local/lib/python3.10/dist-packages/numba/cuda/cudadrv/driver.py\", line 295, in __getattr__\n",
            "    raise CudaSupportError(\"Error at driver init: \\n%s:\" %\n",
            "numba.cuda.cudadrv.error.CudaSupportError: Error at driver init: \n",
            "\n",
            "CUDA driver library cannot be found.\n",
            "If you are sure that a CUDA driver is installed,\n",
            "try setting environment variable NUMBA_CUDA_DRIVER\n",
            "with the file path of the CUDA driver shared library.\n",
            ":\n",
            "\n",
            "\n",
            "Not patching Numba\n",
            "  warnings.warn(msg, UserWarning)\n",
            "/usr/local/lib/python3.10/dist-packages/cudf/utils/gpu_utils.py:62: UserWarning: Function \"cuInit\" not found\n",
            "  warnings.warn(str(e))\n"
          ]
        },
        {
          "name": "stdout",
          "output_type": "stream",
          "text": [
            "Accuracy: 0.90\n",
            "Accuracy: 0.8956666666666667\n",
            "Precision: 0.932456452186278\n",
            "Recall: 0.777876631079478\n",
            "F1 Score: 0.8481810832659661\n",
            "Confusion Matrix:\n",
            "[[21752   760]\n",
            " [ 2996 10492]]\n"
          ]
        }
      ],
      "source": [
        "voting_model = VotingClassifier(\n",
        "    estimators=[('xgboost_1', model_1), ('rf_1', models['Random Forest']),\n",
        "                ('gaussian_1', models['Gaussian Naive Bayes']), ('logistic_1', models['Logistic Regression']),\n",
        "\n",
        "                ('rf_2', models['Random Forest']), ('gaussian_2', models['Gaussian Naive Bayes']),\n",
        "                ('logistic_2', models['Logistic Regression']), ('xgboost_2', model_2)\n",
        "                ],\n",
        "    voting='hard'  # Use 'soft' for probability averaging if needed\n",
        ")\n",
        "\n",
        "# Train the voting classifier\n",
        "voting_model.fit(merged_train_X, merged_train_y)\n",
        "\n",
        "# Make predictions\n",
        "y_pred = voting_model.predict(merged_test_X)\n",
        "\n",
        "accuracy = accuracy_score(merged_test_y, y_pred)\n",
        "precision = precision_score(merged_test_y, y_pred)\n",
        "recall = recall_score(merged_test_y, y_pred)\n",
        "f1 = f1_score(merged_test_y, y_pred)\n",
        "conf_matrix = confusion_matrix(merged_test_y, y_pred)\n",
        "\n",
        "print(f\"Accuracy: {accuracy}\")\n",
        "print(f\"Precision: {precision}\")\n",
        "print(f\"Recall: {recall}\")\n",
        "print(f\"F1 Score: {f1}\")\n",
        "print(\"Confusion Matrix:\")\n",
        "print(conf_matrix)\n",
        "\n",
        "\n"
      ]
    }
  ],
  "metadata": {
    "colab": {
      "provenance": []
    },
    "kernelspec": {
      "display_name": "Python 3",
      "name": "python3"
    },
    "language_info": {
      "name": "python"
    }
  },
  "nbformat": 4,
  "nbformat_minor": 0
}
